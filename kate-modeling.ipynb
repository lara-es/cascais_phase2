{
 "cells": [
  {
   "attachments": {},
   "cell_type": "markdown",
   "metadata": {},
   "source": [
    "# Species Distribution Model (SDM)"
   ]
  },
  {
   "attachments": {},
   "cell_type": "markdown",
   "metadata": {},
   "source": [
    "## Import Libraries"
   ]
  },
  {
   "cell_type": "code",
   "execution_count": 89,
   "metadata": {},
   "outputs": [],
   "source": [
    "#Libraries\n",
    "import pandas as pd\n",
    "import numpy as np\n",
    "import datetime\n",
    "import plotly.express as px\n",
    "\n",
    "#Preprocessing\n",
    "from sklearn.preprocessing import StandardScaler, OneHotEncoder\n",
    "from sklearn.decomposition import PCA\n",
    "from sklearn.model_selection import KFold, ShuffleSplit, StratifiedKFold, StratifiedShuffleSplit, TimeSeriesSplit\n",
    "from sklearn.impute import SimpleImputer\n",
    "from sklearn.compose import ColumnTransformer\n",
    "\n",
    "# Modeling & Metrics\n",
    "from sklearn.pipeline import Pipeline\n",
    "from sklearn.linear_model import LinearRegression\n",
    "from sklearn.ensemble import RandomForestRegressor\n",
    "from sklearn.metrics import mean_squared_error"
   ]
  },
  {
   "attachments": {},
   "cell_type": "markdown",
   "metadata": {},
   "source": [
    "## Load the Dataset"
   ]
  },
  {
   "cell_type": "code",
   "execution_count": 90,
   "metadata": {},
   "outputs": [
    {
     "name": "stdout",
     "output_type": "stream",
     "text": [
      "<class 'pandas.core.frame.DataFrame'>\n",
      "RangeIndex: 1949 entries, 0 to 1948\n",
      "Columns: 160 entries, Datetime to Abundance (ind/m2)\n",
      "dtypes: float64(153), int64(2), object(5)\n",
      "memory usage: 2.4+ MB\n"
     ]
    }
   ],
   "source": [
    "# Species data\n",
    "df = pd.read_csv('all_species.csv')\n",
    "df.info()"
   ]
  },
  {
   "cell_type": "code",
   "execution_count": 91,
   "metadata": {},
   "outputs": [
    {
     "data": {
      "text/html": [
       "<div>\n",
       "<style scoped>\n",
       "    .dataframe tbody tr th:only-of-type {\n",
       "        vertical-align: middle;\n",
       "    }\n",
       "\n",
       "    .dataframe tbody tr th {\n",
       "        vertical-align: top;\n",
       "    }\n",
       "\n",
       "    .dataframe thead th {\n",
       "        text-align: right;\n",
       "    }\n",
       "</style>\n",
       "<table border=\"1\" class=\"dataframe\">\n",
       "  <thead>\n",
       "    <tr style=\"text-align: right;\">\n",
       "      <th></th>\n",
       "      <th>index</th>\n",
       "      <th>Datetime</th>\n",
       "      <th>Year</th>\n",
       "      <th>Datetime.1</th>\n",
       "      <th>Tide</th>\n",
       "      <th>Weather Condition</th>\n",
       "      <th>Water temperature (ºC)</th>\n",
       "      <th>Zone</th>\n",
       "      <th>Supratidal/Middle Intertidal</th>\n",
       "      <th>Substrate</th>\n",
       "      <th>...</th>\n",
       "      <th>Callionymus lira (peixe-pau lira)</th>\n",
       "      <th>Oncidiella celtica</th>\n",
       "      <th>Doriopsilla areolata (nudibrânquio)</th>\n",
       "      <th>Scorpaena sp. (Rascasso)</th>\n",
       "      <th>Lipophrys pholis (ad.)</th>\n",
       "      <th>Diplodus cervinus</th>\n",
       "      <th>Gobiusculus flavescens</th>\n",
       "      <th>Sessile Coverage</th>\n",
       "      <th>Total Mobile Species</th>\n",
       "      <th>Abundance (ind/m2)</th>\n",
       "    </tr>\n",
       "  </thead>\n",
       "  <tbody>\n",
       "    <tr>\n",
       "      <th>0</th>\n",
       "      <td>1948</td>\n",
       "      <td>11/28/2011</td>\n",
       "      <td>2011</td>\n",
       "      <td>11</td>\n",
       "      <td>0.6</td>\n",
       "      <td>Clear sky</td>\n",
       "      <td>16.0</td>\n",
       "      <td>D</td>\n",
       "      <td>Medium</td>\n",
       "      <td>Puddle</td>\n",
       "      <td>...</td>\n",
       "      <td>0.0</td>\n",
       "      <td>0.0</td>\n",
       "      <td>0.0</td>\n",
       "      <td>0.0</td>\n",
       "      <td>0.0</td>\n",
       "      <td>0.0</td>\n",
       "      <td>0.0</td>\n",
       "      <td>66.45</td>\n",
       "      <td>4.0</td>\n",
       "      <td>0.05</td>\n",
       "    </tr>\n",
       "    <tr>\n",
       "      <th>1</th>\n",
       "      <td>1923</td>\n",
       "      <td>12/12/2011</td>\n",
       "      <td>2011</td>\n",
       "      <td>12</td>\n",
       "      <td>0.9</td>\n",
       "      <td>Clear sky</td>\n",
       "      <td>16.0</td>\n",
       "      <td>E</td>\n",
       "      <td>Medium</td>\n",
       "      <td>Rock</td>\n",
       "      <td>...</td>\n",
       "      <td>0.0</td>\n",
       "      <td>0.0</td>\n",
       "      <td>0.0</td>\n",
       "      <td>0.0</td>\n",
       "      <td>0.0</td>\n",
       "      <td>0.0</td>\n",
       "      <td>0.0</td>\n",
       "      <td>95.00</td>\n",
       "      <td>8.0</td>\n",
       "      <td>0.00</td>\n",
       "    </tr>\n",
       "    <tr>\n",
       "      <th>2</th>\n",
       "      <td>1922</td>\n",
       "      <td>12/12/2011</td>\n",
       "      <td>2011</td>\n",
       "      <td>12</td>\n",
       "      <td>0.9</td>\n",
       "      <td>Clear sky</td>\n",
       "      <td>16.0</td>\n",
       "      <td>E</td>\n",
       "      <td>Medium</td>\n",
       "      <td>Rock</td>\n",
       "      <td>...</td>\n",
       "      <td>0.0</td>\n",
       "      <td>0.0</td>\n",
       "      <td>0.0</td>\n",
       "      <td>0.0</td>\n",
       "      <td>0.0</td>\n",
       "      <td>0.0</td>\n",
       "      <td>0.0</td>\n",
       "      <td>20.25</td>\n",
       "      <td>0.0</td>\n",
       "      <td>0.00</td>\n",
       "    </tr>\n",
       "    <tr>\n",
       "      <th>3</th>\n",
       "      <td>1921</td>\n",
       "      <td>12/12/2011</td>\n",
       "      <td>2011</td>\n",
       "      <td>12</td>\n",
       "      <td>0.9</td>\n",
       "      <td>Clear sky</td>\n",
       "      <td>16.0</td>\n",
       "      <td>E</td>\n",
       "      <td>Medium</td>\n",
       "      <td>Rock</td>\n",
       "      <td>...</td>\n",
       "      <td>0.0</td>\n",
       "      <td>0.0</td>\n",
       "      <td>0.0</td>\n",
       "      <td>0.0</td>\n",
       "      <td>0.0</td>\n",
       "      <td>0.0</td>\n",
       "      <td>0.0</td>\n",
       "      <td>0.00</td>\n",
       "      <td>4.0</td>\n",
       "      <td>0.00</td>\n",
       "    </tr>\n",
       "    <tr>\n",
       "      <th>4</th>\n",
       "      <td>1920</td>\n",
       "      <td>12/12/2011</td>\n",
       "      <td>2011</td>\n",
       "      <td>12</td>\n",
       "      <td>0.9</td>\n",
       "      <td>Clear sky</td>\n",
       "      <td>16.0</td>\n",
       "      <td>E</td>\n",
       "      <td>Medium</td>\n",
       "      <td>Rock</td>\n",
       "      <td>...</td>\n",
       "      <td>0.0</td>\n",
       "      <td>0.0</td>\n",
       "      <td>0.0</td>\n",
       "      <td>0.0</td>\n",
       "      <td>0.0</td>\n",
       "      <td>0.0</td>\n",
       "      <td>0.0</td>\n",
       "      <td>0.00</td>\n",
       "      <td>0.0</td>\n",
       "      <td>0.00</td>\n",
       "    </tr>\n",
       "    <tr>\n",
       "      <th>...</th>\n",
       "      <td>...</td>\n",
       "      <td>...</td>\n",
       "      <td>...</td>\n",
       "      <td>...</td>\n",
       "      <td>...</td>\n",
       "      <td>...</td>\n",
       "      <td>...</td>\n",
       "      <td>...</td>\n",
       "      <td>...</td>\n",
       "      <td>...</td>\n",
       "      <td>...</td>\n",
       "      <td>...</td>\n",
       "      <td>...</td>\n",
       "      <td>...</td>\n",
       "      <td>...</td>\n",
       "      <td>...</td>\n",
       "      <td>...</td>\n",
       "      <td>...</td>\n",
       "      <td>...</td>\n",
       "      <td>...</td>\n",
       "      <td>...</td>\n",
       "    </tr>\n",
       "    <tr>\n",
       "      <th>1938</th>\n",
       "      <td>41</td>\n",
       "      <td>6/5/2020</td>\n",
       "      <td>2020</td>\n",
       "      <td>6</td>\n",
       "      <td>0.6</td>\n",
       "      <td>Sunny</td>\n",
       "      <td>19.0</td>\n",
       "      <td>E</td>\n",
       "      <td>Medium</td>\n",
       "      <td>Puddle/Rock/Sand</td>\n",
       "      <td>...</td>\n",
       "      <td>0.0</td>\n",
       "      <td>0.0</td>\n",
       "      <td>0.0</td>\n",
       "      <td>0.0</td>\n",
       "      <td>0.0</td>\n",
       "      <td>0.0</td>\n",
       "      <td>0.0</td>\n",
       "      <td>53.05</td>\n",
       "      <td>2.0</td>\n",
       "      <td>0.10</td>\n",
       "    </tr>\n",
       "    <tr>\n",
       "      <th>1944</th>\n",
       "      <td>47</td>\n",
       "      <td>5/8/2020</td>\n",
       "      <td>2020</td>\n",
       "      <td>5</td>\n",
       "      <td>0.4</td>\n",
       "      <td>Sunny</td>\n",
       "      <td>17.0</td>\n",
       "      <td>D</td>\n",
       "      <td>Medium</td>\n",
       "      <td>Rock</td>\n",
       "      <td>...</td>\n",
       "      <td>0.0</td>\n",
       "      <td>0.0</td>\n",
       "      <td>0.0</td>\n",
       "      <td>0.0</td>\n",
       "      <td>0.0</td>\n",
       "      <td>0.0</td>\n",
       "      <td>0.0</td>\n",
       "      <td>99.65</td>\n",
       "      <td>2.0</td>\n",
       "      <td>0.15</td>\n",
       "    </tr>\n",
       "    <tr>\n",
       "      <th>1945</th>\n",
       "      <td>48</td>\n",
       "      <td>5/8/2020</td>\n",
       "      <td>2020</td>\n",
       "      <td>5</td>\n",
       "      <td>0.4</td>\n",
       "      <td>Sunny</td>\n",
       "      <td>17.0</td>\n",
       "      <td>D</td>\n",
       "      <td>Medium</td>\n",
       "      <td>Rock</td>\n",
       "      <td>...</td>\n",
       "      <td>0.0</td>\n",
       "      <td>0.0</td>\n",
       "      <td>0.0</td>\n",
       "      <td>0.0</td>\n",
       "      <td>0.0</td>\n",
       "      <td>0.0</td>\n",
       "      <td>0.0</td>\n",
       "      <td>100.00</td>\n",
       "      <td>2.0</td>\n",
       "      <td>0.15</td>\n",
       "    </tr>\n",
       "    <tr>\n",
       "      <th>1946</th>\n",
       "      <td>49</td>\n",
       "      <td>5/8/2020</td>\n",
       "      <td>2020</td>\n",
       "      <td>5</td>\n",
       "      <td>0.4</td>\n",
       "      <td>Sunny</td>\n",
       "      <td>17.0</td>\n",
       "      <td>D</td>\n",
       "      <td>Medium</td>\n",
       "      <td>Rock</td>\n",
       "      <td>...</td>\n",
       "      <td>0.0</td>\n",
       "      <td>0.0</td>\n",
       "      <td>0.0</td>\n",
       "      <td>0.0</td>\n",
       "      <td>0.0</td>\n",
       "      <td>0.0</td>\n",
       "      <td>0.0</td>\n",
       "      <td>98.50</td>\n",
       "      <td>2.0</td>\n",
       "      <td>0.15</td>\n",
       "    </tr>\n",
       "    <tr>\n",
       "      <th>1948</th>\n",
       "      <td>0</td>\n",
       "      <td>11/16/2020</td>\n",
       "      <td>2020</td>\n",
       "      <td>11</td>\n",
       "      <td>0.4</td>\n",
       "      <td>Sunny</td>\n",
       "      <td>18.0</td>\n",
       "      <td>D</td>\n",
       "      <td>Supra</td>\n",
       "      <td>Puddle/Rock</td>\n",
       "      <td>...</td>\n",
       "      <td>0.0</td>\n",
       "      <td>0.0</td>\n",
       "      <td>0.0</td>\n",
       "      <td>0.0</td>\n",
       "      <td>0.0</td>\n",
       "      <td>0.0</td>\n",
       "      <td>0.0</td>\n",
       "      <td>96.45</td>\n",
       "      <td>0.0</td>\n",
       "      <td>0.25</td>\n",
       "    </tr>\n",
       "  </tbody>\n",
       "</table>\n",
       "<p>1879 rows × 161 columns</p>\n",
       "</div>"
      ],
      "text/plain": [
       "      index    Datetime  Year  Datetime.1  Tide Weather Condition  \\\n",
       "0      1948  11/28/2011  2011          11   0.6         Clear sky   \n",
       "1      1923  12/12/2011  2011          12   0.9         Clear sky   \n",
       "2      1922  12/12/2011  2011          12   0.9         Clear sky   \n",
       "3      1921  12/12/2011  2011          12   0.9         Clear sky   \n",
       "4      1920  12/12/2011  2011          12   0.9         Clear sky   \n",
       "...     ...         ...   ...         ...   ...               ...   \n",
       "1938     41    6/5/2020  2020           6   0.6             Sunny   \n",
       "1944     47    5/8/2020  2020           5   0.4             Sunny   \n",
       "1945     48    5/8/2020  2020           5   0.4             Sunny   \n",
       "1946     49    5/8/2020  2020           5   0.4             Sunny   \n",
       "1948      0  11/16/2020  2020          11   0.4             Sunny   \n",
       "\n",
       "      Water temperature (ºC) Zone Supratidal/Middle Intertidal  \\\n",
       "0                       16.0    D                       Medium   \n",
       "1                       16.0    E                       Medium   \n",
       "2                       16.0    E                       Medium   \n",
       "3                       16.0    E                       Medium   \n",
       "4                       16.0    E                       Medium   \n",
       "...                      ...  ...                          ...   \n",
       "1938                    19.0    E                       Medium   \n",
       "1944                    17.0    D                       Medium   \n",
       "1945                    17.0    D                       Medium   \n",
       "1946                    17.0    D                       Medium   \n",
       "1948                    18.0    D                        Supra   \n",
       "\n",
       "             Substrate  ...  Callionymus lira (peixe-pau lira)  \\\n",
       "0               Puddle  ...                                0.0   \n",
       "1                 Rock  ...                                0.0   \n",
       "2                 Rock  ...                                0.0   \n",
       "3                 Rock  ...                                0.0   \n",
       "4                 Rock  ...                                0.0   \n",
       "...                ...  ...                                ...   \n",
       "1938  Puddle/Rock/Sand  ...                                0.0   \n",
       "1944              Rock  ...                                0.0   \n",
       "1945              Rock  ...                                0.0   \n",
       "1946              Rock  ...                                0.0   \n",
       "1948       Puddle/Rock  ...                                0.0   \n",
       "\n",
       "      Oncidiella celtica  Doriopsilla areolata (nudibrânquio)  \\\n",
       "0                    0.0                                  0.0   \n",
       "1                    0.0                                  0.0   \n",
       "2                    0.0                                  0.0   \n",
       "3                    0.0                                  0.0   \n",
       "4                    0.0                                  0.0   \n",
       "...                  ...                                  ...   \n",
       "1938                 0.0                                  0.0   \n",
       "1944                 0.0                                  0.0   \n",
       "1945                 0.0                                  0.0   \n",
       "1946                 0.0                                  0.0   \n",
       "1948                 0.0                                  0.0   \n",
       "\n",
       "      Scorpaena sp. (Rascasso)  Lipophrys pholis (ad.)  Diplodus cervinus  \\\n",
       "0                          0.0                     0.0                0.0   \n",
       "1                          0.0                     0.0                0.0   \n",
       "2                          0.0                     0.0                0.0   \n",
       "3                          0.0                     0.0                0.0   \n",
       "4                          0.0                     0.0                0.0   \n",
       "...                        ...                     ...                ...   \n",
       "1938                       0.0                     0.0                0.0   \n",
       "1944                       0.0                     0.0                0.0   \n",
       "1945                       0.0                     0.0                0.0   \n",
       "1946                       0.0                     0.0                0.0   \n",
       "1948                       0.0                     0.0                0.0   \n",
       "\n",
       "      Gobiusculus flavescens  Sessile Coverage  Total Mobile Species  \\\n",
       "0                        0.0             66.45                   4.0   \n",
       "1                        0.0             95.00                   8.0   \n",
       "2                        0.0             20.25                   0.0   \n",
       "3                        0.0              0.00                   4.0   \n",
       "4                        0.0              0.00                   0.0   \n",
       "...                      ...               ...                   ...   \n",
       "1938                     0.0             53.05                   2.0   \n",
       "1944                     0.0             99.65                   2.0   \n",
       "1945                     0.0            100.00                   2.0   \n",
       "1946                     0.0             98.50                   2.0   \n",
       "1948                     0.0             96.45                   0.0   \n",
       "\n",
       "      Abundance (ind/m2)  \n",
       "0                   0.05  \n",
       "1                   0.00  \n",
       "2                   0.00  \n",
       "3                   0.00  \n",
       "4                   0.00  \n",
       "...                  ...  \n",
       "1938                0.10  \n",
       "1944                0.15  \n",
       "1945                0.15  \n",
       "1946                0.15  \n",
       "1948                0.25  \n",
       "\n",
       "[1879 rows x 161 columns]"
      ]
     },
     "execution_count": 91,
     "metadata": {},
     "output_type": "execute_result"
    }
   ],
   "source": [
    "df.sort_values(by='Year', inplace=True) \n",
    "df.reset_index(inplace=True) # reset index for proper min/max time\n",
    "df = df[df['Zone'] != 'F'] # retroactively remove Zone F which is absent in training set\n",
    "df"
   ]
  },
  {
   "cell_type": "code",
   "execution_count": 92,
   "metadata": {},
   "outputs": [
    {
     "data": {
      "text/html": [
       "<div>\n",
       "<style scoped>\n",
       "    .dataframe tbody tr th:only-of-type {\n",
       "        vertical-align: middle;\n",
       "    }\n",
       "\n",
       "    .dataframe tbody tr th {\n",
       "        vertical-align: top;\n",
       "    }\n",
       "\n",
       "    .dataframe thead th {\n",
       "        text-align: right;\n",
       "    }\n",
       "</style>\n",
       "<table border=\"1\" class=\"dataframe\">\n",
       "  <thead>\n",
       "    <tr style=\"text-align: right;\">\n",
       "      <th></th>\n",
       "      <th>Tide</th>\n",
       "      <th>Water temperature (ºC)</th>\n",
       "      <th>Sessile Coverage</th>\n",
       "      <th>Total Mobile Species</th>\n",
       "      <th>Abundance (ind/m2)</th>\n",
       "    </tr>\n",
       "  </thead>\n",
       "  <tbody>\n",
       "    <tr>\n",
       "      <th>count</th>\n",
       "      <td>1879.000000</td>\n",
       "      <td>1879.000000</td>\n",
       "      <td>1879.000000</td>\n",
       "      <td>1875.000000</td>\n",
       "      <td>1879.000000</td>\n",
       "    </tr>\n",
       "    <tr>\n",
       "      <th>mean</th>\n",
       "      <td>0.729159</td>\n",
       "      <td>16.821767</td>\n",
       "      <td>52.711895</td>\n",
       "      <td>3.851733</td>\n",
       "      <td>0.215540</td>\n",
       "    </tr>\n",
       "    <tr>\n",
       "      <th>std</th>\n",
       "      <td>0.178576</td>\n",
       "      <td>2.266078</td>\n",
       "      <td>34.378994</td>\n",
       "      <td>12.931326</td>\n",
       "      <td>0.657095</td>\n",
       "    </tr>\n",
       "    <tr>\n",
       "      <th>min</th>\n",
       "      <td>0.300000</td>\n",
       "      <td>11.000000</td>\n",
       "      <td>0.000000</td>\n",
       "      <td>0.000000</td>\n",
       "      <td>0.000000</td>\n",
       "    </tr>\n",
       "    <tr>\n",
       "      <th>25%</th>\n",
       "      <td>0.600000</td>\n",
       "      <td>15.000000</td>\n",
       "      <td>21.025000</td>\n",
       "      <td>0.000000</td>\n",
       "      <td>0.000000</td>\n",
       "    </tr>\n",
       "    <tr>\n",
       "      <th>50%</th>\n",
       "      <td>0.700000</td>\n",
       "      <td>17.000000</td>\n",
       "      <td>56.500000</td>\n",
       "      <td>0.000000</td>\n",
       "      <td>0.000000</td>\n",
       "    </tr>\n",
       "    <tr>\n",
       "      <th>75%</th>\n",
       "      <td>0.900000</td>\n",
       "      <td>19.000000</td>\n",
       "      <td>84.900000</td>\n",
       "      <td>3.000000</td>\n",
       "      <td>0.150000</td>\n",
       "    </tr>\n",
       "    <tr>\n",
       "      <th>max</th>\n",
       "      <td>1.400000</td>\n",
       "      <td>22.000000</td>\n",
       "      <td>123.500000</td>\n",
       "      <td>254.000000</td>\n",
       "      <td>12.700000</td>\n",
       "    </tr>\n",
       "  </tbody>\n",
       "</table>\n",
       "</div>"
      ],
      "text/plain": [
       "              Tide  Water temperature (ºC)  Sessile Coverage  \\\n",
       "count  1879.000000             1879.000000       1879.000000   \n",
       "mean      0.729159               16.821767         52.711895   \n",
       "std       0.178576                2.266078         34.378994   \n",
       "min       0.300000               11.000000          0.000000   \n",
       "25%       0.600000               15.000000         21.025000   \n",
       "50%       0.700000               17.000000         56.500000   \n",
       "75%       0.900000               19.000000         84.900000   \n",
       "max       1.400000               22.000000        123.500000   \n",
       "\n",
       "       Total Mobile Species  Abundance (ind/m2)  \n",
       "count           1875.000000         1879.000000  \n",
       "mean               3.851733            0.215540  \n",
       "std               12.931326            0.657095  \n",
       "min                0.000000            0.000000  \n",
       "25%                0.000000            0.000000  \n",
       "50%                0.000000            0.000000  \n",
       "75%                3.000000            0.150000  \n",
       "max              254.000000           12.700000  "
      ]
     },
     "execution_count": 92,
     "metadata": {},
     "output_type": "execute_result"
    }
   ],
   "source": [
    "df[['Tide', 'Water temperature (ºC)', 'Sessile Coverage', 'Total Mobile Species','Abundance (ind/m2)']].describe()"
   ]
  },
  {
   "attachments": {},
   "cell_type": "markdown",
   "metadata": {},
   "source": [
    "**Initial Observations**\n",
    "- `Tide` has a nearly equal mean and median with a majority of values spread within 2 (TODO: How was tide measured?), indicating a possible normal distribution.\n",
    "- `Water temperature (ºC)` may have a similar distribution to `Tide`. Are observed min and max values related for these features due to an event?\n",
    "- `Sessile Coverage` may need to be plotted to confirm if the distribution is normal. Is there a time factor, like seasonality?\n",
    "- `Total Mobile Species` and related field `Abundance(ind/m2)` has a relatively large range of sample values. Double check that thes values appear to be correlated.\n",
    "\n",
    "**Note**: This evaluation is not only to determine the shape of the distribution, as all numeric columns are transformed by removing the mean value of each feature, then scaling it using SciKit Learn's Preprocessing library."
   ]
  },
  {
   "attachments": {},
   "cell_type": "markdown",
   "metadata": {},
   "source": [
    "\n",
    "## Data Preprocessing"
   ]
  },
  {
   "attachments": {},
   "cell_type": "markdown",
   "metadata": {},
   "source": [
    "#### Categorical Features"
   ]
  },
  {
   "cell_type": "code",
   "execution_count": 59,
   "metadata": {},
   "outputs": [
    {
     "data": {
      "text/plain": [
       "Clear sky        1385\n",
       "Cloudy            345\n",
       "Sunny             103\n",
       "Rain               83\n",
       "Fairly Cloudy      33\n",
       "Name: Weather Condition, dtype: int64"
      ]
     },
     "execution_count": 59,
     "metadata": {},
     "output_type": "execute_result"
    }
   ],
   "source": [
    "X[\"Weather Condition\"].value_counts()"
   ]
  },
  {
   "cell_type": "code",
   "execution_count": 62,
   "metadata": {},
   "outputs": [],
   "source": [
    "X[\"Weather Condition\"].replace(to_replace=\"Sunny and Windy\", value=\"Sunny\", inplace=True)"
   ]
  },
  {
   "attachments": {},
   "cell_type": "markdown",
   "metadata": {},
   "source": [
    "Only 9 values observed as 'Sunny and Windy', so collapse with Sunny."
   ]
  },
  {
   "cell_type": "code",
   "execution_count": 63,
   "metadata": {},
   "outputs": [
    {
     "data": {
      "text/plain": [
       "Clear sky        1385\n",
       "Cloudy            345\n",
       "Sunny             103\n",
       "Rain               83\n",
       "Fairly Cloudy      33\n",
       "Name: Weather Condition, dtype: int64"
      ]
     },
     "execution_count": 63,
     "metadata": {},
     "output_type": "execute_result"
    }
   ],
   "source": [
    "X[\"Weather Condition\"].value_counts()"
   ]
  },
  {
   "attachments": {},
   "cell_type": "markdown",
   "metadata": {},
   "source": [
    "#### Datetime"
   ]
  },
  {
   "cell_type": "code",
   "execution_count": 93,
   "metadata": {},
   "outputs": [],
   "source": [
    "df['Datetime'] = df.loc[:, 'Datetime'].astype('datetime64[ns]')"
   ]
  },
  {
   "cell_type": "code",
   "execution_count": 94,
   "metadata": {},
   "outputs": [
    {
     "name": "stdout",
     "output_type": "stream",
     "text": [
      "Min: 2011-11-28 00:00:00 Max: 2020-11-16 00:00:00\n"
     ]
    }
   ],
   "source": [
    "min_date = df.Datetime.iloc[0]\n",
    "max_date = df.Datetime.iloc[-1]\n",
    "print(\"Min:\", min_date, \"Max:\", max_date)"
   ]
  },
  {
   "attachments": {},
   "cell_type": "markdown",
   "metadata": {},
   "source": [
    "### Train/Test split\n",
    "\n",
    "Train percent determined based on a Discord discussion regarding the \"Abundance measure inconsistency around Septemper 2015\":\n",
    "\n",
    "\"From the information of that year’s report, there was a damage to the pier holding the sand at the protected area in the storm of 2014 and continued in 2015, this caused the increase in sand in the rocky shore and therefore the decrease in abundance. The pier was re-established in the Summer of 2016.\""
   ]
  },
  {
   "cell_type": "code",
   "execution_count": null,
   "metadata": {},
   "outputs": [],
   "source": [
    "# Define X and y\n",
    "X = df[['Datetime'] + numeric_features + categorical_features].sort_values(by='Datetime')\n",
    "y = df['Abundance (ind/m2)']"
   ]
  },
  {
   "cell_type": "code",
   "execution_count": 95,
   "metadata": {},
   "outputs": [
    {
     "data": {
      "text/plain": [
       "Timestamp('2016-05-23 00:00:00')"
      ]
     },
     "execution_count": 95,
     "metadata": {},
     "output_type": "execute_result"
    }
   ],
   "source": [
    "# Code adapted from https://www.rasgoml.com/feature-engineering-tutorials/scikit-learn-time-series-split\n",
    "train_percent = .5\n",
    "time_between = max_date - min_date\n",
    "train_cutoff = min_date + train_percent*time_between\n",
    "train_cutoff"
   ]
  },
  {
   "cell_type": "code",
   "execution_count": 96,
   "metadata": {},
   "outputs": [
    {
     "name": "stdout",
     "output_type": "stream",
     "text": [
      "Train: ['D' 'E' 'B' 'A']\n",
      "Test: ['B' 'A' 'D' 'E']\n",
      "Train: 2011-11-28 00:00:00 2016-05-10 00:00:00\n",
      "Test: 2016-06-07 00:00:00 2020-11-16 00:00:00\n"
     ]
    }
   ],
   "source": [
    "train_df = df[df['Datetime'] <= train_cutoff]\n",
    "test_df = df[df['Datetime'] > train_cutoff]\n",
    "print(\"Train:\", train_df.Zone.unique())\n",
    "print(\"Test:\", test_df.Zone.unique())\n",
    "print(\"Train:\", train_df['Datetime'].min(), train_df['Datetime'].max())\n",
    "print(\"Test:\", test_df['Datetime'].min(), test_df['Datetime'].max())\n"
   ]
  },
  {
   "attachments": {},
   "cell_type": "markdown",
   "metadata": {},
   "source": [
    "### Building a Pipeline\n",
    "Note: Numerical features are considered here. "
   ]
  },
  {
   "cell_type": "code",
   "execution_count": 64,
   "metadata": {},
   "outputs": [],
   "source": [
    "numeric_features = ['Tide', 'Water temperature (ºC)', 'Sessile Coverage']\n",
    "numeric_transformer = Pipeline(\n",
    "    steps=[(\"imputer\", SimpleImputer(strategy=\"median\")), \n",
    "           (\"scaler\", StandardScaler())]\n",
    ")\n",
    "\n",
    "categorical_features = ['Weather Condition', 'Zone']\n",
    "categorical_transformer = Pipeline(\n",
    "    steps=[\n",
    "        ('imputer', SimpleImputer(strategy='constant', fill_value='missing')),\n",
    "        (\"encoder\", OneHotEncoder(handle_unknown=\"ignore\")),\n",
    "    ]\n",
    ")\n",
    "preprocessor = ColumnTransformer(\n",
    "    transformers=[\n",
    "        (\"num\", numeric_transformer, numeric_features),\n",
    "        (\"cat\", categorical_transformer, categorical_features),\n",
    "    ]\n",
    ")"
   ]
  },
  {
   "attachments": {},
   "cell_type": "markdown",
   "metadata": {},
   "source": [
    "## Model Selection"
   ]
  },
  {
   "attachments": {},
   "cell_type": "markdown",
   "metadata": {},
   "source": [
    "#### Linear Regressor"
   ]
  },
  {
   "cell_type": "code",
   "execution_count": null,
   "metadata": {},
   "outputs": [],
   "source": [
    "# Create the pipeline with preprocessor and linear regressor\n",
    "linear_pipeline = Pipeline([\n",
    "    ('preprocessor', preprocessor),\n",
    "    ('linear', LinearRegression())\n",
    "])\n",
    "\n",
    "# Fit the pipeline on the data\n",
    "linear_pipeline.fit(X_train, y_train)"
   ]
  },
  {
   "attachments": {},
   "cell_type": "markdown",
   "metadata": {},
   "source": [
    "#### Random Forest Regressor"
   ]
  },
  {
   "cell_type": "code",
   "execution_count": null,
   "metadata": {},
   "outputs": [],
   "source": [
    "# Create the pipeline with preprocessor and random forest regressor\n",
    "forest_pipeline = Pipeline([\n",
    "    ('preprocessor', preprocessor),\n",
    "    ('forest', RandomForestRegressor(n_estimators = 300, max_features = 'sqrt', max_depth = 5, random_state = 18))\n",
    "])\n",
    "\n",
    "# Fit the pipeline on the data\n",
    "forest_pipeline.fit(X_train, y_train)"
   ]
  },
  {
   "attachments": {},
   "cell_type": "markdown",
   "metadata": {},
   "source": [
    "### Model Evaluation\n",
    "Evaluate the trained models using appropriate metrics such as mean squared error (MSE) and mean absolute error (MAE).  Compare the performance of different models."
   ]
  },
  {
   "cell_type": "code",
   "execution_count": null,
   "metadata": {},
   "outputs": [],
   "source": [
    "linear_y_preds = linear_pipeline.predict(X_test)\n",
    "mean_squared_error(y_test, linear_y_preds)"
   ]
  },
  {
   "cell_type": "code",
   "execution_count": null,
   "metadata": {},
   "outputs": [],
   "source": [
    "# Predict and score\n",
    "forest_y_preds = forest_pipeline.predict(X_test)\n",
    "mse = mean_squared_error(y_test, forest_y_preds)\n",
    "mse"
   ]
  },
  {
   "cell_type": "code",
   "execution_count": null,
   "metadata": {},
   "outputs": [],
   "source": [
    "rmse = mse**0.5\n",
    "rmse"
   ]
  },
  {
   "cell_type": "code",
   "execution_count": null,
   "metadata": {},
   "outputs": [],
   "source": [
    "# Plot difference between the actual and the predicted values\n",
    "plt.figure(figsize=(5, 7))\n",
    "\n",
    "\n",
    "ax = sns.distplot(y, hist=False, color=\"r\", label=\"Actual Value\")\n",
    "sns.distplot(forest_y_preds, hist=False, color=\"b\", label=\"Fitted Values\" , ax=ax)\n",
    "\n",
    "\n",
    "plt.title('Actual vs Fitted Values for Abundance')\n",
    "\n",
    "\n",
    "plt.show();"
   ]
  },
  {
   "attachments": {},
   "cell_type": "markdown",
   "metadata": {},
   "source": [
    "### Feature Importances\n",
    "Determine features that influence the abundance of mobile species."
   ]
  },
  {
   "cell_type": "code",
   "execution_count": null,
   "metadata": {},
   "outputs": [],
   "source": [
    "import eli5"
   ]
  },
  {
   "cell_type": "code",
   "execution_count": null,
   "metadata": {},
   "outputs": [],
   "source": [
    "# Extract encoded feature names and append them to the known list of numerical features\n",
    "onehot_columns = list(forest_pipeline.named_steps['preprocessor'].named_transformers_['cat'].named_steps['encoder'].get_feature_names_out(input_features=categorical_features))\n",
    "numeric_features_list = list(numeric_features)\n",
    "numeric_features_list.extend(onehot_columns)"
   ]
  },
  {
   "cell_type": "code",
   "execution_count": null,
   "metadata": {},
   "outputs": [],
   "source": [
    "target_names = y_test.unique().astype(str)"
   ]
  },
  {
   "cell_type": "code",
   "execution_count": null,
   "metadata": {},
   "outputs": [],
   "source": [
    "eli5.explain_weights(forest_pipeline.named_steps['forest'], top=3, feature_names=numeric_features_list)"
   ]
  },
  {
   "attachments": {},
   "cell_type": "markdown",
   "metadata": {},
   "source": [
    "[Source](https://towardsdatascience.com/extracting-feature-importances-from-scikit-learn-pipelines-18c79b4ae09a)"
   ]
  },
  {
   "attachments": {},
   "cell_type": "markdown",
   "metadata": {},
   "source": [
    "### Test Model"
   ]
  },
  {
   "attachments": {},
   "cell_type": "markdown",
   "metadata": {},
   "source": [
    "### Conclusion\n",
    "Summarize your findings, discuss any insights gained from the analysis, and suggest future steps for improvement if applicable."
   ]
  }
 ],
 "metadata": {
  "kernelspec": {
   "display_name": "finance",
   "language": "python",
   "name": "python3"
  },
  "language_info": {
   "codemirror_mode": {
    "name": "ipython",
    "version": 3
   },
   "file_extension": ".py",
   "mimetype": "text/x-python",
   "name": "python",
   "nbconvert_exporter": "python",
   "pygments_lexer": "ipython3",
   "version": "3.11.0"
  },
  "orig_nbformat": 4
 },
 "nbformat": 4,
 "nbformat_minor": 2
}
