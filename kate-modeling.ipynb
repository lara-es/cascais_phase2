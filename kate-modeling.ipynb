{
 "cells": [
  {
   "attachments": {},
   "cell_type": "markdown",
   "metadata": {},
   "source": [
    "# Species Distribution Model (SDM)"
   ]
  },
  {
   "attachments": {},
   "cell_type": "markdown",
   "metadata": {},
   "source": [
    "#### Intro\n",
    "As marine ecosystems undergo global climate change, there is an increasing need to incorporate potential shifts in the distribution of marine taxa into management plans\n",
    "\n",
    "We propose that the best models—those that effectively describe or predict marine animal distribution patterns at a desired temporal scale without utilizing unnecessarily high-resolution data—are obtained when the temporal characteristics of the animals’ distribution and environmental data sufficiently match the scale of the ecological question and the variability of the ecosystem\n",
    "\n",
    "#### Data & Variability\n",
    "*Instantaneous covariates* represent the state of the environment in close proximity to the animal (i.e., within its direct perceptual range) at the moment it was observed.\n",
    "\n",
    "*Contemporaneous covariates* represent the state of the environment in a time window (typically days to months)\n",
    "\n",
    "**This dataset is identified as:**\n",
    "*Climatological datasets* divide the calendar year into shorter time slices such as days, weeks, months or seasons, and for each slice, apply a summary statistic (e.g., mean, variance, frequency or probability) to many (often at least 10) years of observations made during that slice to estimate the long-term state\n",
    "\n",
    "Are contemporaneous covariates are necessary or climatological covariates are sufficient to model these associations?\n",
    "\n",
    "we acknowledge that current sampling abilities and requirements lead to imperfect models and potentially biased predictions and practical recommendations are critically needed for ecologists and managers.\n",
    "\n",
    "SDMs developed from climatological covariates are relevant for static management and used to predict important species habitats with a high potential for delineation of marine-protected areas and implementation of mitigation measures\n",
    "\n",
    "#### Scale of the ecological question\n",
    "Macroscale (Figure 4)\n",
    "animal distribution: Fisheries, historical catches, species coverage\n",
    "enviro data: sum of in situ databases, climatological oceanographic covariates\n",
    "temporal resolution: climatological \n",
    "\n",
    "#### Outcome\n",
    "Torres et al. (2013) modelled the seasonal distribution of southern right whales (Eubalaena australis) by comparing the predicted habitat suitability maps with maps of shipping traffic to identify areas of increased risk of collision where mitigation measures could be implemented.\n",
    "\n",
    "[Source](https://onlinelibrary.wiley.com/doi/full/10.1111/ddi.12609)"
   ]
  },
  {
   "attachments": {},
   "cell_type": "markdown",
   "metadata": {},
   "source": [
    "#### Methods and Techniques (250 words max)\n",
    "Process-based modeling\n",
    "Global change includes changes in climate, habitat connectivity and nutrient dynamics at various spatial and temporal scales.\n",
    "\n",
    "the model should allow an exploration of how these changes affect outcomes. \n",
    "\n",
    "Changing the scale of a process can alter the relative importance of key drivers, or disrupt the process altogether.\n",
    "\n",
    "Complex simulation models can be process-based, but a highly dimensional model will be difficult to analyze. As the number of estimated parameters increases, the size of the parameter space (i.e., the number of possible combinations of parameter values) increase\n",
    "\n",
    "#### Social Impact\n",
    "The protection and restoration of coastal wetlands can be more cost effective than barrier construction as a means to reduce storm damage (Halpern et al. 2007, Costanza et al. 2008, although see Francis et al. 2011).\n",
    "\n",
    "[Source](https://esajournals.onlinelibrary.wiley.com/doi/10.1890/ES12-00178.1)"
   ]
  },
  {
   "attachments": {},
   "cell_type": "markdown",
   "metadata": {},
   "source": [
    "[Source](https://daniel-furman.github.io/Python-species-distribution-modeling/)"
   ]
  },
  {
   "attachments": {},
   "cell_type": "markdown",
   "metadata": {},
   "source": [
    "#### Data (250 words max)\n",
    "Special attention should be put on any scaling mismatches, meaning cases where the spatial (or temporal) grain or extent doe not match between biodiversity and environmental data or within environmental data. In these cases, we need to make decisions about adequate **upscaling and downscaling strategies.**\n",
    "\n",
    "**absence data** are rarely available. In such cases, adequate background data or pseudo-absence data needs to be selected.\n",
    "\n",
    "for later model assessment we may wish to partition the data into training data and validation data (Hastie, Tibshirani, and Friedman 2009)"
   ]
  },
  {
   "attachments": {},
   "cell_type": "markdown",
   "metadata": {},
   "source": [
    "## Import Libraries"
   ]
  },
  {
   "cell_type": "code",
   "execution_count": 136,
   "metadata": {},
   "outputs": [
    {
     "name": "stderr",
     "output_type": "stream",
     "text": [
      "/var/folders/7l/441dnk_52sgfldpwf_5_7dmr0000gn/T/ipykernel_95009/885051002.py:5: DeprecationWarning: Please use `pearsonr` from the `scipy.stats` namespace, the `scipy.stats.stats` namespace is deprecated.\n",
      "  from scipy.stats.stats import pearsonr\n"
     ]
    }
   ],
   "source": [
    "#Libraries\n",
    "import pandas as pd\n",
    "import numpy as np\n",
    "import datetime\n",
    "from scipy.stats.stats import pearsonr\n",
    "\n",
    "#Preprocessing\n",
    "from sklearn.preprocessing import StandardScaler, OneHotEncoder\n",
    "from sklearn.decomposition import PCA\n",
    "from sklearn.preprocessing import FunctionTransformer\n",
    "from sklearn.impute import SimpleImputer\n",
    "from sklearn.compose import ColumnTransformer\n",
    "\n",
    "# Modeling & Metrics\n",
    "from sklearn.pipeline import Pipeline\n",
    "from sklearn.linear_model import LinearRegression, LogisticRegression\n",
    "from sklearn.ensemble import RandomForestRegressor, GradientBoostingRegressor\n",
    "from sklearn.inspection import permutation_importance\n",
    "from sklearn.metrics import mean_squared_error\n",
    "\n",
    "# Data Visualizations\n",
    "import matplotlib.pyplot as plt"
   ]
  },
  {
   "attachments": {},
   "cell_type": "markdown",
   "metadata": {},
   "source": [
    "## Load the Dataset"
   ]
  },
  {
   "cell_type": "code",
   "execution_count": 131,
   "metadata": {},
   "outputs": [],
   "source": [
    "# Species data\n",
    "df = pd.read_csv('all_species.csv')"
   ]
  },
  {
   "cell_type": "code",
   "execution_count": 132,
   "metadata": {},
   "outputs": [
    {
     "name": "stdout",
     "output_type": "stream",
     "text": [
      "<class 'pandas.core.frame.DataFrame'>\n",
      "RangeIndex: 1949 entries, 0 to 1948\n",
      "Columns: 158 entries, Datetime to Abundance (ind/m2)\n",
      "dtypes: float64(153), object(5)\n",
      "memory usage: 2.3+ MB\n"
     ]
    }
   ],
   "source": [
    "df.info()"
   ]
  },
  {
   "cell_type": "code",
   "execution_count": 133,
   "metadata": {},
   "outputs": [
    {
     "data": {
      "text/html": [
       "<div>\n",
       "<style scoped>\n",
       "    .dataframe tbody tr th:only-of-type {\n",
       "        vertical-align: middle;\n",
       "    }\n",
       "\n",
       "    .dataframe tbody tr th {\n",
       "        vertical-align: top;\n",
       "    }\n",
       "\n",
       "    .dataframe thead th {\n",
       "        text-align: right;\n",
       "    }\n",
       "</style>\n",
       "<table border=\"1\" class=\"dataframe\">\n",
       "  <thead>\n",
       "    <tr style=\"text-align: right;\">\n",
       "      <th></th>\n",
       "      <th>Datetime</th>\n",
       "      <th>Tide</th>\n",
       "      <th>Weather Condition</th>\n",
       "      <th>Water temperature (ºC)</th>\n",
       "      <th>Zone</th>\n",
       "      <th>Supratidal/Middle Intertidal</th>\n",
       "      <th>Substrate</th>\n",
       "      <th>Chthamalus sp.</th>\n",
       "      <th>Balanus perforatus</th>\n",
       "      <th>Patella sp.</th>\n",
       "      <th>...</th>\n",
       "      <th>Callionymus lira (peixe-pau lira)</th>\n",
       "      <th>Oncidiella celtica</th>\n",
       "      <th>Doriopsilla areolata (nudibrânquio)</th>\n",
       "      <th>Scorpaena sp. (Rascasso)</th>\n",
       "      <th>Lipophrys pholis (ad.)</th>\n",
       "      <th>Diplodus cervinus</th>\n",
       "      <th>Gobiusculus flavescens</th>\n",
       "      <th>Sessile Coverage</th>\n",
       "      <th>Total Mobile Species</th>\n",
       "      <th>Abundance (ind/m2)</th>\n",
       "    </tr>\n",
       "  </thead>\n",
       "  <tbody>\n",
       "    <tr>\n",
       "      <th>0</th>\n",
       "      <td>11/28/2011 10:10:00</td>\n",
       "      <td>0.6</td>\n",
       "      <td>Clear sky</td>\n",
       "      <td>16.0</td>\n",
       "      <td>D</td>\n",
       "      <td>Medium</td>\n",
       "      <td>Puddle</td>\n",
       "      <td>0.0</td>\n",
       "      <td>0.0</td>\n",
       "      <td>0.0</td>\n",
       "      <td>...</td>\n",
       "      <td>0.0</td>\n",
       "      <td>0.0</td>\n",
       "      <td>0.0</td>\n",
       "      <td>0.0</td>\n",
       "      <td>0.0</td>\n",
       "      <td>0.0</td>\n",
       "      <td>0.0</td>\n",
       "      <td>66.45</td>\n",
       "      <td>4.0</td>\n",
       "      <td>0.05</td>\n",
       "    </tr>\n",
       "    <tr>\n",
       "      <th>1</th>\n",
       "      <td>11/28/2011 10:25:00</td>\n",
       "      <td>0.6</td>\n",
       "      <td>Clear sky</td>\n",
       "      <td>16.0</td>\n",
       "      <td>D</td>\n",
       "      <td>Medium</td>\n",
       "      <td>Rock</td>\n",
       "      <td>8.0</td>\n",
       "      <td>0.0</td>\n",
       "      <td>3.0</td>\n",
       "      <td>...</td>\n",
       "      <td>0.0</td>\n",
       "      <td>0.0</td>\n",
       "      <td>0.0</td>\n",
       "      <td>0.0</td>\n",
       "      <td>0.0</td>\n",
       "      <td>0.0</td>\n",
       "      <td>0.0</td>\n",
       "      <td>75.10</td>\n",
       "      <td>2.0</td>\n",
       "      <td>0.10</td>\n",
       "    </tr>\n",
       "    <tr>\n",
       "      <th>2</th>\n",
       "      <td>11/28/2011 10:40:00</td>\n",
       "      <td>0.6</td>\n",
       "      <td>Clear sky</td>\n",
       "      <td>16.0</td>\n",
       "      <td>D</td>\n",
       "      <td>Medium</td>\n",
       "      <td>Rock</td>\n",
       "      <td>25.0</td>\n",
       "      <td>0.0</td>\n",
       "      <td>5.0</td>\n",
       "      <td>...</td>\n",
       "      <td>0.0</td>\n",
       "      <td>0.0</td>\n",
       "      <td>0.0</td>\n",
       "      <td>0.0</td>\n",
       "      <td>0.0</td>\n",
       "      <td>0.0</td>\n",
       "      <td>0.0</td>\n",
       "      <td>67.20</td>\n",
       "      <td>1.0</td>\n",
       "      <td>0.00</td>\n",
       "    </tr>\n",
       "    <tr>\n",
       "      <th>3</th>\n",
       "      <td>11/28/2011 11:00:00</td>\n",
       "      <td>0.6</td>\n",
       "      <td>Clear sky</td>\n",
       "      <td>16.0</td>\n",
       "      <td>E</td>\n",
       "      <td>Medium</td>\n",
       "      <td>Rock</td>\n",
       "      <td>0.0</td>\n",
       "      <td>0.0</td>\n",
       "      <td>0.0</td>\n",
       "      <td>...</td>\n",
       "      <td>0.0</td>\n",
       "      <td>0.0</td>\n",
       "      <td>0.0</td>\n",
       "      <td>0.0</td>\n",
       "      <td>0.0</td>\n",
       "      <td>0.0</td>\n",
       "      <td>0.0</td>\n",
       "      <td>0.00</td>\n",
       "      <td>2.0</td>\n",
       "      <td>0.20</td>\n",
       "    </tr>\n",
       "    <tr>\n",
       "      <th>4</th>\n",
       "      <td>11/28/2011 11:15:00</td>\n",
       "      <td>0.6</td>\n",
       "      <td>Clear sky</td>\n",
       "      <td>16.0</td>\n",
       "      <td>E</td>\n",
       "      <td>Medium</td>\n",
       "      <td>Rock</td>\n",
       "      <td>0.0</td>\n",
       "      <td>0.0</td>\n",
       "      <td>0.0</td>\n",
       "      <td>...</td>\n",
       "      <td>0.0</td>\n",
       "      <td>0.0</td>\n",
       "      <td>0.0</td>\n",
       "      <td>0.0</td>\n",
       "      <td>0.0</td>\n",
       "      <td>0.0</td>\n",
       "      <td>0.0</td>\n",
       "      <td>48.25</td>\n",
       "      <td>0.0</td>\n",
       "      <td>0.00</td>\n",
       "    </tr>\n",
       "  </tbody>\n",
       "</table>\n",
       "<p>5 rows × 158 columns</p>\n",
       "</div>"
      ],
      "text/plain": [
       "              Datetime  Tide Weather Condition  Water temperature (ºC) Zone  \\\n",
       "0  11/28/2011 10:10:00   0.6         Clear sky                    16.0    D   \n",
       "1  11/28/2011 10:25:00   0.6         Clear sky                    16.0    D   \n",
       "2  11/28/2011 10:40:00   0.6         Clear sky                    16.0    D   \n",
       "3  11/28/2011 11:00:00   0.6         Clear sky                    16.0    E   \n",
       "4  11/28/2011 11:15:00   0.6         Clear sky                    16.0    E   \n",
       "\n",
       "  Supratidal/Middle Intertidal Substrate  Chthamalus sp.  Balanus perforatus  \\\n",
       "0                       Medium    Puddle             0.0                 0.0   \n",
       "1                       Medium      Rock             8.0                 0.0   \n",
       "2                       Medium      Rock            25.0                 0.0   \n",
       "3                       Medium      Rock             0.0                 0.0   \n",
       "4                       Medium      Rock             0.0                 0.0   \n",
       "\n",
       "   Patella sp.  ...  Callionymus lira (peixe-pau lira)  Oncidiella celtica  \\\n",
       "0          0.0  ...                                0.0                 0.0   \n",
       "1          3.0  ...                                0.0                 0.0   \n",
       "2          5.0  ...                                0.0                 0.0   \n",
       "3          0.0  ...                                0.0                 0.0   \n",
       "4          0.0  ...                                0.0                 0.0   \n",
       "\n",
       "   Doriopsilla areolata (nudibrânquio)  Scorpaena sp. (Rascasso)  \\\n",
       "0                                  0.0                       0.0   \n",
       "1                                  0.0                       0.0   \n",
       "2                                  0.0                       0.0   \n",
       "3                                  0.0                       0.0   \n",
       "4                                  0.0                       0.0   \n",
       "\n",
       "   Lipophrys pholis (ad.)  Diplodus cervinus  Gobiusculus flavescens  \\\n",
       "0                     0.0                0.0                     0.0   \n",
       "1                     0.0                0.0                     0.0   \n",
       "2                     0.0                0.0                     0.0   \n",
       "3                     0.0                0.0                     0.0   \n",
       "4                     0.0                0.0                     0.0   \n",
       "\n",
       "   Sessile Coverage  Total Mobile Species  Abundance (ind/m2)  \n",
       "0             66.45                   4.0                0.05  \n",
       "1             75.10                   2.0                0.10  \n",
       "2             67.20                   1.0                0.00  \n",
       "3              0.00                   2.0                0.20  \n",
       "4             48.25                   0.0                0.00  \n",
       "\n",
       "[5 rows x 158 columns]"
      ]
     },
     "execution_count": 133,
     "metadata": {},
     "output_type": "execute_result"
    }
   ],
   "source": [
    "df.head()"
   ]
  },
  {
   "cell_type": "code",
   "execution_count": null,
   "metadata": {},
   "outputs": [],
   "source": [
    "df[['Tide', 'Water temperature (ºC)', 'Sessile Coverage', 'Total Mobile Species','Abundance (ind/m2)']].describe()"
   ]
  },
  {
   "attachments": {},
   "cell_type": "markdown",
   "metadata": {},
   "source": [
    "**Initial Observations**\n",
    "- `Tide` has a nearly equal mean and median with a majority of values spread within 2 (TODO: How was tide measured?), indicating a possible normal distribution.\n",
    "- `Water temperature (ºC)` may have a similar distribution to `Tide`. Are observed min and max values related for these features due to an event?\n",
    "- `Sessile Coverage` may need to be plotted to confirm if the distribution is normal. Is there a time factor, like seasonality?\n",
    "- `Total Mobile Species` and related field `Abundance(ind/m2)` has a relatively large range of sample values. Double check that thes values appear to be correlated.\n",
    "\n",
    "**Note**: This evaluation is not only to determine the shape of the distribution, as all numeric columns are transformed by removing the mean value of each feature, then scaling it using SciKit Learn's Preprocessing library."
   ]
  },
  {
   "cell_type": "code",
   "execution_count": 141,
   "metadata": {},
   "outputs": [
    {
     "name": "stdout",
     "output_type": "stream",
     "text": [
      "PearsonRResult(statistic=-0.03604420427423636, pvalue=0.1116643146390885)\n",
      "PearsonRResult(statistic=0.2280404088616998, pvalue=2.075160366851023e-24)\n",
      "PearsonRResult(statistic=0.02102188575759382, pvalue=0.35363046536318116)\n"
     ]
    }
   ],
   "source": [
    "#calculation correlation coefficient and p-value between x and y\n",
    "print(pearsonr(df['Tide'], df['Abundance (ind/m2)']))\n",
    "print(pearsonr(df['Water temperature (ºC)'], df['Abundance (ind/m2)']))\n",
    "print(pearsonr(df['Sessile Coverage'], df['Abundance (ind/m2)']))"
   ]
  },
  {
   "attachments": {},
   "cell_type": "markdown",
   "metadata": {},
   "source": [
    "indicates shifts in water temperature are correlated with mobile species abundance\n",
    "sensitive to small changes\n",
    "reduce precision\n",
    "\n",
    "Do I need to fix?:\n",
    "\n",
    "severity? VIF below 5\n",
    "\n",
    "goals? doesnt influence predictions or goodness of fit\n",
    "\n",
    "structural so scale\n",
    "\n",
    "or use lasso and ridge regression\n",
    "\n",
    "[Source](https://statisticsbyjim.com/regression/multicollinearity-in-regression-analysis/)"
   ]
  },
  {
   "attachments": {},
   "cell_type": "markdown",
   "metadata": {},
   "source": [
    "\n",
    "## Data Preprocessing"
   ]
  },
  {
   "attachments": {},
   "cell_type": "markdown",
   "metadata": {},
   "source": [
    "### Building a Pipeline"
   ]
  },
  {
   "cell_type": "code",
   "execution_count": null,
   "metadata": {},
   "outputs": [],
   "source": [
    "numeric_features = ['Tide', 'Water temperature (ºC)', 'Sessile Coverage']\n",
    "numeric_transformer = Pipeline(\n",
    "    steps=[(\"imputer\", SimpleImputer(strategy=\"median\")), \n",
    "           (\"scaler\", StandardScaler())]\n",
    ")\n",
    "\n",
    "categorical_features = ['Weather Condition']\n",
    "categorical_transformer = Pipeline(\n",
    "    steps=[\n",
    "        ('imputer', SimpleImputer(strategy='constant', fill_value='missing')),\n",
    "        (\"encoder\", OneHotEncoder(handle_unknown=\"ignore\")),\n",
    "    ]\n",
    ")\n",
    "preprocessor = ColumnTransformer(\n",
    "    transformers=[\n",
    "        (\"num\", numeric_transformer, numeric_features),\n",
    "        (\"cat\", categorical_transformer, categorical_features),\n",
    "    ]\n",
    ")"
   ]
  },
  {
   "attachments": {},
   "cell_type": "markdown",
   "metadata": {},
   "source": [
    "### Train/Test split"
   ]
  },
  {
   "cell_type": "code",
   "execution_count": 137,
   "metadata": {},
   "outputs": [],
   "source": [
    "# Define X and y\n",
    "X = df[numeric_features + categorical_features]\n",
    "y = df['Abundance (ind/m2)']"
   ]
  },
  {
   "cell_type": "code",
   "execution_count": 147,
   "metadata": {},
   "outputs": [
    {
     "data": {
      "text/plain": [
       "Clear sky        1385\n",
       "Cloudy            345\n",
       "Sunny             103\n",
       "Rain               83\n",
       "Fairly Cloudy      33\n",
       "Name: Weather Condition, dtype: int64"
      ]
     },
     "execution_count": 147,
     "metadata": {},
     "output_type": "execute_result"
    }
   ],
   "source": [
    "X[\"Weather Condition\"].value_counts()"
   ]
  },
  {
   "attachments": {},
   "cell_type": "markdown",
   "metadata": {},
   "source": [
    "Since only 9 Sunny and Windy collapse with Sunny"
   ]
  },
  {
   "cell_type": "code",
   "execution_count": 146,
   "metadata": {},
   "outputs": [
    {
     "name": "stderr",
     "output_type": "stream",
     "text": [
      "/var/folders/7l/441dnk_52sgfldpwf_5_7dmr0000gn/T/ipykernel_95009/595839353.py:1: SettingWithCopyWarning: \n",
      "A value is trying to be set on a copy of a slice from a DataFrame\n",
      "\n",
      "See the caveats in the documentation: https://pandas.pydata.org/pandas-docs/stable/user_guide/indexing.html#returning-a-view-versus-a-copy\n",
      "  X[\"Weather Condition\"].replace(to_replace=\"Sunny and Windy\", value=\"Sunny\", inplace=True)\n"
     ]
    }
   ],
   "source": [
    "X[\"Weather Condition\"].replace(to_replace=\"Sunny and Windy\", value=\"Sunny\", inplace=True)"
   ]
  },
  {
   "cell_type": "code",
   "execution_count": 148,
   "metadata": {},
   "outputs": [
    {
     "data": {
      "text/plain": [
       "Clear sky        1385\n",
       "Cloudy            345\n",
       "Sunny             103\n",
       "Rain               83\n",
       "Fairly Cloudy      33\n",
       "Name: Weather Condition, dtype: int64"
      ]
     },
     "execution_count": 148,
     "metadata": {},
     "output_type": "execute_result"
    }
   ],
   "source": [
    "X[\"Weather Condition\"].value_counts()"
   ]
  },
  {
   "cell_type": "code",
   "execution_count": null,
   "metadata": {},
   "outputs": [],
   "source": [
    "# Perform train-test split without shuffling\n",
    "X_train, X_test, y_train, y_test = train_test_split(X, y, shuffle=False, test_size=0.2, random_state=42)\n",
    "\n",
    "print(X_train.shape, y_train.shape)\n",
    "print(X_test.shape, y_test.shape)"
   ]
  },
  {
   "attachments": {},
   "cell_type": "markdown",
   "metadata": {},
   "source": [
    "## Model Selection"
   ]
  },
  {
   "attachments": {},
   "cell_type": "markdown",
   "metadata": {},
   "source": [
    "#### Linear Regressor"
   ]
  },
  {
   "cell_type": "code",
   "execution_count": null,
   "metadata": {},
   "outputs": [],
   "source": [
    "# Create the pipeline with preprocessor and linear regressor\n",
    "linear_pipeline = Pipeline([\n",
    "    ('preprocessor', preprocessor),\n",
    "    ('linear', LinearRegression())\n",
    "])\n",
    "\n",
    "# Fit the pipeline on the data\n",
    "linear_pipeline.fit(X_train, y_train)"
   ]
  },
  {
   "attachments": {},
   "cell_type": "markdown",
   "metadata": {},
   "source": [
    "#### Random Forest Regressor"
   ]
  },
  {
   "cell_type": "code",
   "execution_count": null,
   "metadata": {},
   "outputs": [],
   "source": [
    "# Create the pipeline with preprocessor and random forest regressor\n",
    "forest_pipeline = Pipeline([\n",
    "    ('preprocessor', preprocessor),\n",
    "    ('forest', RandomForestRegressor(n_estimators = 300, max_features = 'sqrt', max_depth = 5, random_state = 18))\n",
    "])\n",
    "\n",
    "# Fit the pipeline on the data\n",
    "forest_pipeline.fit(X_train, y_train)"
   ]
  },
  {
   "attachments": {},
   "cell_type": "markdown",
   "metadata": {},
   "source": [
    "### Model Evaluation\n",
    "Evaluate the trained models using appropriate metrics such as mean squared error (MSE) and mean absolute error (MAE).  Compare the performance of different models."
   ]
  },
  {
   "cell_type": "code",
   "execution_count": null,
   "metadata": {},
   "outputs": [],
   "source": [
    "linear_y_preds = linear_pipeline.predict(X_test)\n",
    "mean_squared_error(y_test, linear_y_preds)"
   ]
  },
  {
   "cell_type": "code",
   "execution_count": null,
   "metadata": {},
   "outputs": [],
   "source": [
    "# Predict and score\n",
    "forest_y_preds = forest_pipeline.predict(X_test)\n",
    "mean_squared_error(y_test, forest_y_preds)"
   ]
  },
  {
   "attachments": {},
   "cell_type": "markdown",
   "metadata": {},
   "source": [
    "### Feature Importances"
   ]
  },
  {
   "cell_type": "code",
   "execution_count": null,
   "metadata": {},
   "outputs": [],
   "source": [
    "import eli5"
   ]
  },
  {
   "cell_type": "code",
   "execution_count": null,
   "metadata": {},
   "outputs": [],
   "source": [
    "# Extract encoded feature names and append them to the known list of numerical features\n",
    "onehot_columns = list(forest_pipeline.named_steps['preprocessor'].named_transformers_['cat'].named_steps['encoder'].get_feature_names_out(input_features=categorical_features))\n",
    "numeric_features_list = list(numeric_features)\n",
    "numeric_features_list.extend(onehot_columns)"
   ]
  },
  {
   "cell_type": "code",
   "execution_count": null,
   "metadata": {},
   "outputs": [],
   "source": [
    "target_names = y_test.unique().astype(str)"
   ]
  },
  {
   "cell_type": "code",
   "execution_count": null,
   "metadata": {},
   "outputs": [],
   "source": [
    "eli5.explain_weights(forest_pipeline.named_steps['forest'], top=3, feature_names=numeric_features_list)"
   ]
  },
  {
   "attachments": {},
   "cell_type": "markdown",
   "metadata": {},
   "source": [
    "[Source](https://towardsdatascience.com/extracting-feature-importances-from-scikit-learn-pipelines-18c79b4ae09a)"
   ]
  },
  {
   "attachments": {},
   "cell_type": "markdown",
   "metadata": {},
   "source": [
    "### Final Model and Predictions\n",
    "Select the best-performing model based on evaluation metrics, retrain it on the full training data, and make predictions on the test set. Evaluate the final model's performance and interpret the results."
   ]
  },
  {
   "attachments": {},
   "cell_type": "markdown",
   "metadata": {},
   "source": [
    "### Conclusion\n",
    "Summarize your findings, discuss any insights gained from the analysis, and suggest future steps for improvement if applicable."
   ]
  }
 ],
 "metadata": {
  "kernelspec": {
   "display_name": "finance",
   "language": "python",
   "name": "python3"
  },
  "language_info": {
   "codemirror_mode": {
    "name": "ipython",
    "version": 3
   },
   "file_extension": ".py",
   "mimetype": "text/x-python",
   "name": "python",
   "nbconvert_exporter": "python",
   "pygments_lexer": "ipython3",
   "version": "3.11.0"
  },
  "orig_nbformat": 4
 },
 "nbformat": 4,
 "nbformat_minor": 2
}
